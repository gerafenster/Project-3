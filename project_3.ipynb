{
  "nbformat": 4,
  "nbformat_minor": 0,
  "metadata": {
    "colab": {
      "name": "project 3.ipynb",
      "provenance": [],
      "authorship_tag": "ABX9TyMj/efHrNLl6ugJ9ljdKnrr",
      "include_colab_link": true
    },
    "kernelspec": {
      "name": "python3",
      "display_name": "Python 3"
    }
  },
  "cells": [
    {
      "cell_type": "markdown",
      "metadata": {
        "id": "view-in-github",
        "colab_type": "text"
      },
      "source": [
        "<a href=\"https://colab.research.google.com/github/gerafenster/Project-3/blob/master/project_3.ipynb\" target=\"_parent\"><img src=\"https://colab.research.google.com/assets/colab-badge.svg\" alt=\"Open In Colab\"/></a>"
      ]
    },
    {
      "cell_type": "markdown",
      "metadata": {
        "id": "-PAvUn3JSurt",
        "colab_type": "text"
      },
      "source": [
        "TAREFA 0: Escreva um programa que abra o arquivo clients.txt, que descreve em coordenadas geográficas normalizadas (longitude e latitude, ambas entre 0.0 e 1.0) um conjunto de clientes que devem ser atendidos por sete fornecedores. As coordenadas desses fornecedores são: A (0.0715, 0.5984), B (0.2336, 0.2094), C (0.0612, 0.8530), D (0.5088, 0.4992), E (0.5567, 0.8742), F (0.0944, 0.0894) e G (0.9028, 0.4606).\n",
        "\n",
        "Inicialmente, é preciso fazer a visualização dos dados, ilustrando de alguma forma a distribuição de clientes e fornecedores, gerando uma imagem. Pede-se relacionar cada cliente a um único fornecedor, usando o critério de menor distância euclidiana entre eles. Uma vez feita essa associação, solicita-se exibir cada fornecedor e os códigos dos seus respectivos clientes, por ordem decrescente de distância (entre cada cliente e seu fornecedor)."
      ]
    },
    {
      "cell_type": "code",
      "metadata": {
        "id": "sBtSgn01N1A-",
        "colab_type": "code",
        "colab": {}
      },
      "source": [
        "import pandas as pd\n",
        "import numpy as np\n",
        "import matplotlib.pyplot as plt\n",
        "from operator import itemgetter\n",
        "from scipy.spatial import distance\n",
        "\n",
        "suppliers = pd.read_csv('suppliers.txt', sep= ' ', names= ['suppliers','sx','sy']) \n",
        "clients = pd.read_csv('clients.txt', sep= ' ', names= ['clients', 'cx', 'cy'])\n",
        "\n",
        "plt.scatter(suppliers.sx, suppliers.sy)\n",
        "plt.show()\n",
        "\n",
        "plt.scatter(clients.cx, clients.cy)\n",
        "plt.show()\n",
        "\n",
        "\n",
        "relation = dict()\n",
        "\n",
        "for index, rowz in clients.iterrows():\n",
        "  client = (rowz['cx'], rowz['cy'])\n",
        "  clientCode = rowz['clients']\n",
        "  vect = []\n",
        "  sup = dict()\n",
        "  for index, rowc in suppliers.iterrows():\n",
        "    supplier = (rowc['sx'], rowc['sy'])\n",
        "    supplierName = rowc['suppliers']\n",
        "    dist = distance.euclidean(client, supplier)\n",
        "    vect.append(dist)\n",
        "    sup.setdefault(dist, supplierName)\n",
        "  vect.sort()\n",
        "  x = vect.pop(0)\n",
        "  relation.setdefault(clientCode, sup.get(x))\n",
        "\n",
        "sortedrelation = sorted(relation.items(), key=itemgetter(1))\n",
        "\n",
        "\n",
        "\n",
        "print(\"Relação cliente x fornecedor:\")\n",
        "print(relation)\n",
        "\n",
        "print(\"Lista fornecedor x clientes:\")\n",
        "\n",
        "print(sortedrelation)\n",
        "\n",
        "\n",
        "\n",
        "\n",
        "\n",
        "\n",
        "\n",
        "    \n"
      ],
      "execution_count": null,
      "outputs": []
    }
  ]
}